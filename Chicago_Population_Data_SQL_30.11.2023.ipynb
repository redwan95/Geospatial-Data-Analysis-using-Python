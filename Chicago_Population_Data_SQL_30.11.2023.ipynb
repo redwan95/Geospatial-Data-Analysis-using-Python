{
 "cells": [
  {
   "cell_type": "code",
   "execution_count": 9,
   "id": "65ff5a9e",
   "metadata": {},
   "outputs": [
    {
     "name": "stdout",
     "output_type": "stream",
     "text": [
      "                    GEO_ID                                Census_Tract  \\\n",
      "0     1400000US17031010100     Census Tract 101; Cook County; Illinois   \n",
      "1     1400000US17031010201  Census Tract 102.01; Cook County; Illinois   \n",
      "2     1400000US17031010202  Census Tract 102.02; Cook County; Illinois   \n",
      "3     1400000US17031010300     Census Tract 103; Cook County; Illinois   \n",
      "4     1400000US17031010400     Census Tract 104; Cook County; Illinois   \n",
      "...                    ...                                         ...   \n",
      "1327  1400000US17031844600    Census Tract 8446; Cook County; Illinois   \n",
      "1328  1400000US17031844700    Census Tract 8447; Cook County; Illinois   \n",
      "1329  1400000US17031980000    Census Tract 9800; Cook County; Illinois   \n",
      "1330  1400000US17031980100    Census Tract 9801; Cook County; Illinois   \n",
      "1331  1400000US17031990000    Census Tract 9900; Cook County; Illinois   \n",
      "\n",
      "      Total_Pop  \n",
      "0          4905  \n",
      "1          6939  \n",
      "2          2742  \n",
      "3          6305  \n",
      "4          5079  \n",
      "...         ...  \n",
      "1327       1776  \n",
      "1328       2342  \n",
      "1329          0  \n",
      "1330         18  \n",
      "1331          0  \n",
      "\n",
      "[1332 rows x 3 columns]\n"
     ]
    }
   ],
   "source": [
    "import pandas as pd\n",
    "\n",
    "file_path = r'C:\\Users\\Redwan Kabir\\Desktop\\Pop_Data_Chicago_Cook County\\Demographic Profile_2020_CookCounty\\DECENNIALDHC2020.P1-Data.csv'\n",
    "\n",
    "# Read the CSV file into a DataFrame\n",
    "df = pd.read_csv(file_path)\n",
    "\n",
    "# Display the DataFrame\n",
    "print(df)\n"
   ]
  },
  {
   "cell_type": "code",
   "execution_count": 11,
   "id": "9d2f26b3",
   "metadata": {},
   "outputs": [
    {
     "name": "stdout",
     "output_type": "stream",
     "text": [
      "                    GEO_ID         Census_Tract  Total_Pop\n",
      "0     1400000US17031010100     Census Tract 101       4905\n",
      "1     1400000US17031010201  Census Tract 102.01       6939\n",
      "2     1400000US17031010202  Census Tract 102.02       2742\n",
      "3     1400000US17031010300     Census Tract 103       6305\n",
      "4     1400000US17031010400     Census Tract 104       5079\n",
      "...                    ...                  ...        ...\n",
      "1327  1400000US17031844600    Census Tract 8446       1776\n",
      "1328  1400000US17031844700    Census Tract 8447       2342\n",
      "1329  1400000US17031980000    Census Tract 9800          0\n",
      "1330  1400000US17031980100    Census Tract 9801         18\n",
      "1331  1400000US17031990000    Census Tract 9900          0\n",
      "\n",
      "[1332 rows x 3 columns]\n"
     ]
    }
   ],
   "source": [
    "import pandas as pd\n",
    "\n",
    "# Assuming 'df' is your DataFrame containing the data\n",
    "# Read the CSV file into a DataFrame\n",
    "df = pd.read_csv(r'C:\\Users\\Redwan Kabir\\Desktop\\Pop_Data_Chicago_Cook County\\Demographic Profile_2020_CookCounty\\DECENNIALDHC2020.P1-Data.csv')\n",
    "\n",
    "# Remove the unwanted part from the 'Census_Tract' column\n",
    "df['Census_Tract'] = df['Census_Tract'].str.replace('; Cook County; Illinois', '')\n",
    "\n",
    "# Display the updated DataFrame\n",
    "print(df)\n"
   ]
  },
  {
   "cell_type": "code",
   "execution_count": 19,
   "id": "470760ce",
   "metadata": {},
   "outputs": [
    {
     "name": "stdout",
     "output_type": "stream",
     "text": [
      "Excel file saved successfully!\n"
     ]
    }
   ],
   "source": [
    "import pandas as pd\n",
    "\n",
    "# Assuming 'df' is your DataFrame containing the modified data\n",
    "# Read the CSV file into a DataFrame\n",
    "df = pd.read_csv(r'C:\\Users\\Redwan Kabir\\Desktop\\Pop_Data_Chicago_Cook County\\Demographic Profile_2020_CookCounty\\DECENNIALDHC2020.P1-Data.csv')\n",
    "\n",
    "# Remove the unwanted part from the 'Census_Tract' column\n",
    "df['Census_Tract'] = df['Census_Tract'].str.replace('; Cook County; Illinois', '')\n",
    "\n",
    "# Save the updated DataFrame to a new Excel file\n",
    "output_file_path = r'C:\\Users\\Redwan Kabir\\Desktop\\Pop_Data_Chicago_Cook County\\Demographic Profile_2020_CookCounty\\updated_file_2020.xlsx'\n",
    "df.to_excel(output_file_path, index=False)\n",
    "\n",
    "print(\"Excel file saved successfully!\")\n"
   ]
  },
  {
   "cell_type": "code",
   "execution_count": 25,
   "id": "62375e47",
   "metadata": {},
   "outputs": [
    {
     "name": "stdout",
     "output_type": "stream",
     "text": [
      "Excel file saved successfully!\n"
     ]
    }
   ],
   "source": [
    "import pandas as pd\n",
    "\n",
    "# Assuming 'df' is your DataFrame containing the modified data\n",
    "# Read the CSV file into a DataFrame\n",
    "df = pd.read_csv(r'C:\\Users\\Redwan Kabir\\Desktop\\Pop_Data_Chicago_Cook County\\Demographic Profile_2000_CookCounty\\DECENNIALDPSF22000.DP1-Data.csv')\n",
    "\n",
    "# Remove the unwanted part from the 'Census_Tract' column\n",
    "df['Census_Tract'] = df['Census_Tract'].str.replace(', Cook County, Illinois', '')\n",
    "\n",
    "# Save the updated DataFrame to a new Excel file\n",
    "output_file_path = r'C:\\Users\\Redwan Kabir\\Desktop\\Pop_Data_Chicago_Cook County\\Demographic Profile_2000_CookCounty\\updated_file_2000.xlsx'\n",
    "df.to_excel(output_file_path, index=False)\n",
    "\n",
    "print(\"Excel file saved successfully!\")"
   ]
  },
  {
   "cell_type": "code",
   "execution_count": 24,
   "id": "7c95d775",
   "metadata": {},
   "outputs": [
    {
     "name": "stdout",
     "output_type": "stream",
     "text": [
      "Excel file saved successfully!\n"
     ]
    }
   ],
   "source": [
    "import pandas as pd\n",
    "\n",
    "# Assuming 'df' is your DataFrame containing the modified data\n",
    "# Read the CSV file into a DataFrame\n",
    "df = pd.read_csv(r'C:\\Users\\Redwan Kabir\\Desktop\\Pop_Data_Chicago_Cook County\\Demographic Profile_2010_CookCounty\\DECENNIALPL2010.P1-Data.csv')\n",
    "\n",
    "# Remove the unwanted part from the 'Census_Tract' column\n",
    "df['Census_Tract'] = df['Census_Tract'].str.replace(', Cook County, Illinois', '')\n",
    "\n",
    "# Save the updated DataFrame to a new Excel file\n",
    "output_file_path = r'C:\\Users\\Redwan Kabir\\Desktop\\Pop_Data_Chicago_Cook County\\Demographic Profile_2010_CookCounty\\updated_file_2010.xlsx'\n",
    "df.to_excel(output_file_path, index=False)\n",
    "\n",
    "print(\"Excel file saved successfully!\")"
   ]
  },
  {
   "cell_type": "code",
   "execution_count": 26,
   "id": "82e02feb",
   "metadata": {},
   "outputs": [
    {
     "name": "stdout",
     "output_type": "stream",
     "text": [
      "Excel file saved successfully!\n"
     ]
    }
   ],
   "source": [
    "import pandas as pd\n",
    "\n",
    "# Read the CSV file into a DataFrame\n",
    "df = pd.read_csv(r'C:\\Users\\Redwan Kabir\\Desktop\\Pop_Data_Chicago_Cook County\\Demographic Profile_2010_CookCounty\\DECENNIALPL2010.P1-Data.csv')\n",
    "\n",
    "# Remove the unwanted part from the 'Census_Tract' column\n",
    "df['Census_Tract'] = df['Census_Tract'].str.replace(', Cook County, Illinois', '')\n",
    "\n",
    "# Convert 'Tot_Pop' column to numeric format\n",
    "df['Tot_Pop'] = pd.to_numeric(df['Tot_Pop'], errors='coerce')\n",
    "\n",
    "# Save the updated DataFrame to a new Excel file\n",
    "output_file_path = r'C:\\Users\\Redwan Kabir\\Desktop\\Pop_Data_Chicago_Cook County\\Demographic Profile_2010_CookCounty\\updated_file_2010.xlsx'\n",
    "df.to_excel(output_file_path, index=False)\n",
    "\n",
    "print(\"Excel file saved successfully!\")\n"
   ]
  },
  {
   "cell_type": "code",
   "execution_count": 27,
   "id": "a4661af7",
   "metadata": {},
   "outputs": [
    {
     "name": "stdout",
     "output_type": "stream",
     "text": [
      "     FID  Shape *  commarea  commarea_n  countyfp10      geoid10  name10  \\\n",
      "0      0  Polygon        44          44          31  17031842400  8424.0   \n",
      "1      1  Polygon        59          59          31  17031840300  8403.0   \n",
      "2      2  Polygon        34          34          31  17031841100  8411.0   \n",
      "3      3  Polygon        31          31          31  17031841200  8412.0   \n",
      "4      4  Polygon        32          32          31  17031839000  8390.0   \n",
      "..   ...      ...       ...         ...         ...          ...     ...   \n",
      "795  796  Polygon         7           7          31  17031070400   704.0   \n",
      "796  797  Polygon         7           7          31  17031070500   705.0   \n",
      "797  798  Polygon        13          13          31  17031130300  1303.0   \n",
      "798  799  Polygon        29          29          31  17031292200  2922.0   \n",
      "799  800  Polygon        63          63          31  17031630900  6309.0   \n",
      "\n",
      "            namelsad10 notes  statefp10  tractce10  \n",
      "0    Census Tract 8424               17     842400  \n",
      "1    Census Tract 8403               17     840300  \n",
      "2    Census Tract 8411               17     841100  \n",
      "3    Census Tract 8412               17     841200  \n",
      "4    Census Tract 8390               17     839000  \n",
      "..                 ...   ...        ...        ...  \n",
      "795   Census Tract 704               17      70400  \n",
      "796   Census Tract 705               17      70500  \n",
      "797  Census Tract 1303               17     130300  \n",
      "798  Census Tract 2922               17     292200  \n",
      "799  Census Tract 6309               17     630900  \n",
      "\n",
      "[800 rows x 11 columns]\n"
     ]
    }
   ],
   "source": [
    "import pandas as pd\n",
    "\n",
    "# Read the Excel file into a DataFrame\n",
    "file_path = r'C:\\Users\\Redwan Kabir\\Desktop\\Pop_Data_Chicago_Cook County\\Census_tract_Shapefile_ID.xlsx'\n",
    "df = pd.read_excel(file_path)\n",
    "\n",
    "# Display the DataFrame\n",
    "print(df)\n"
   ]
  },
  {
   "cell_type": "code",
   "execution_count": 36,
   "id": "e94479bb",
   "metadata": {},
   "outputs": [
    {
     "name": "stdout",
     "output_type": "stream",
     "text": [
      "Number of rows where 'namelsad10' matches 'Census_Tract': 557\n"
     ]
    }
   ],
   "source": [
    "import pandas as pd\n",
    "\n",
    "# Read the first Excel file into a DataFrame\n",
    "file_path1 = r'C:\\Users\\Redwan Kabir\\Desktop\\Pop_Data_Chicago_Cook County\\Census_tract_Shapefile_ID.xlsx'\n",
    "df1 = pd.read_excel(file_path1)\n",
    "\n",
    "# Assuming 'df' is the DataFrame containing the census tract data with 'Census_Tract' column\n",
    "# Read the other Excel file into a DataFrame\n",
    "file_path2 = r'C:\\Users\\Redwan Kabir\\Desktop\\Pop_Data_Chicago_Cook County\\Demographic Profile_2000_CookCounty\\updated_file_2000.xlsx'  # Replace 'path_to_another_excel_file.xlsx' with the actual file path\n",
    "df2 = pd.read_excel(file_path2)\n",
    "\n",
    "# Count the number of rows where 'namelsad10' matches 'Census_Tract'\n",
    "matched_rows = df1[df1['namelsad10'].isin(df2['Census_Tract'])]\n",
    "\n",
    "# Display the count of matching rows\n",
    "print(\"Number of rows where 'namelsad10' matches 'Census_Tract':\", len(matched_rows))\n"
   ]
  },
  {
   "cell_type": "code",
   "execution_count": 37,
   "id": "5528a5a7",
   "metadata": {},
   "outputs": [
    {
     "name": "stdout",
     "output_type": "stream",
     "text": [
      "     FID  Shape *  commarea  commarea_n  countyfp10      geoid10  name10  \\\n",
      "0     87  Polygon        35          35          31  17031351500  3515.0   \n",
      "1     94  Polygon        38          38          31  17031381500  3815.0   \n",
      "2    114  Polygon        23          23          31  17031230200  2302.0   \n",
      "3    123  Polygon        39          39          31  17031390500  3905.0   \n",
      "4    131  Polygon        39          39          31  17031390400  3904.0   \n",
      "..   ...      ...       ...         ...         ...          ...     ...   \n",
      "552  796  Polygon         7           7          31  17031070400   704.0   \n",
      "553  797  Polygon         7           7          31  17031070500   705.0   \n",
      "554  798  Polygon        13          13          31  17031130300  1303.0   \n",
      "555  799  Polygon        29          29          31  17031292200  2922.0   \n",
      "556  800  Polygon        63          63          31  17031630900  6309.0   \n",
      "\n",
      "            namelsad10 notes  statefp10  tractce10                GEO_ID  \\\n",
      "0    Census Tract 3515               17     351500  1400000US17031351500   \n",
      "1    Census Tract 3815               17     381500  1400000US17031381500   \n",
      "2    Census Tract 2302               17     230200  1400000US17031230200   \n",
      "3    Census Tract 3905               17     390500  1400000US17031390500   \n",
      "4    Census Tract 3904               17     390400  1400000US17031390400   \n",
      "..                 ...   ...        ...        ...                   ...   \n",
      "552   Census Tract 704               17      70400  1400000US17031070400   \n",
      "553   Census Tract 705               17      70500  1400000US17031070500   \n",
      "554  Census Tract 1303               17     130300  1400000US17031130300   \n",
      "555  Census Tract 2922               17     292200  1400000US17031292200   \n",
      "556  Census Tract 6309               17     630900  1400000US17031630900   \n",
      "\n",
      "          Census_Tract  Tot_Pop  \n",
      "0    Census Tract 3515     2215  \n",
      "1    Census Tract 3815     1462  \n",
      "2    Census Tract 2302     2314  \n",
      "3    Census Tract 3905     1792  \n",
      "4    Census Tract 3904     2883  \n",
      "..                 ...      ...  \n",
      "552   Census Tract 704     2914  \n",
      "553   Census Tract 705     2723  \n",
      "554  Census Tract 1303     5164  \n",
      "555  Census Tract 2922     3145  \n",
      "556  Census Tract 6309     5243  \n",
      "\n",
      "[557 rows x 14 columns]\n",
      "Merged Excel file saved successfully!\n"
     ]
    }
   ],
   "source": [
    "import pandas as pd\n",
    "\n",
    "# Read the first Excel file into a DataFrame\n",
    "file_path1 = r'C:\\Users\\Redwan Kabir\\Desktop\\Pop_Data_Chicago_Cook County\\Census_tract_Shapefile_ID.xlsx'\n",
    "df1 = pd.read_excel(file_path1)\n",
    "\n",
    "# Assuming 'df' is the DataFrame containing the census tract data with 'Census_Tract' column\n",
    "# Read the other Excel file into a DataFrame\n",
    "file_path2 = r'C:\\Users\\Redwan Kabir\\Desktop\\Pop_Data_Chicago_Cook County\\Demographic Profile_2000_CookCounty\\updated_file_2000.xlsx'  # Replace 'path_to_another_excel_file.xlsx' with the actual file path\n",
    "df2 = pd.read_excel(file_path2)\n",
    "\n",
    "# Merge the DataFrames based on the matching columns\n",
    "merged_df = pd.merge(df1, df2, left_on='namelsad10', right_on='Census_Tract', how='inner')\n",
    "\n",
    "# Display the merged DataFrame table\n",
    "print(merged_df)\n",
    "\n",
    "# Save the merged DataFrame to a new Excel file\n",
    "output_file_path = r'C:\\Users\\Redwan Kabir\\Desktop\\Pop_Data_Chicago_Cook County\\Combined_Data_2000.xlsx'\n",
    "merged_df.to_excel(output_file_path, index=False)\n",
    "\n",
    "print(\"Merged Excel file saved successfully!\")\n"
   ]
  },
  {
   "cell_type": "code",
   "execution_count": 52,
   "id": "ff2d3bab",
   "metadata": {},
   "outputs": [
    {
     "name": "stdout",
     "output_type": "stream",
     "text": [
      "Combined attributes saved successfully to 'combined_attributes.xlsx'\n"
     ]
    }
   ],
   "source": [
    "import pandas as pd\n",
    "\n",
    "# Read the first Excel file into a DataFrame\n",
    "file_path1 = r'C:\\Users\\Redwan Kabir\\Desktop\\Pop_Data_Chicago_Cook County\\Census_tract_Shapefile_ID.xlsx'\n",
    "df1 = pd.read_excel(file_path1)\n",
    "\n",
    "# Assuming 'df' is the DataFrame containing the census tract data with 'Census_Tract' column\n",
    "# Read the other Excel file into a DataFrame\n",
    "file_path2 = r'C:\\Users\\Redwan Kabir\\Desktop\\Pop_Data_Chicago_Cook County\\Demographic Profile_2000_CookCounty\\updated_file_2000.xlsx'  # Replace 'path_to_another_excel_file.xlsx' with the actual file path\n",
    "df2 = pd.read_excel(file_path2)\n",
    "\n",
    "# Merge the DataFrames on matching columns\n",
    "merged_df = pd.merge(df1, df2, left_on='namelsad10', right_on='Census_Tract', how='inner')\n",
    "\n",
    "# Rename 'Tot_Pop' column to 'Tot_Pop_00'\n",
    "merged_df.rename(columns={'Tot_Pop': 'Tot_Pop_00'}, inplace=True)\n",
    "\n",
    "# Save the combined attributes to a new Excel file\n",
    "output_file_path = r'C:\\Users\\Redwan Kabir\\Desktop\\Pop_Data_Chicago_Cook County\\Combined_Data_2000.xlsx'\n",
    "merged_df.to_excel(output_file_path, index=False)\n",
    "\n",
    "print(\"Combined attributes saved successfully to 'combined_attributes.xlsx'\")\n"
   ]
  },
  {
   "cell_type": "code",
   "execution_count": 38,
   "id": "60bfe93c",
   "metadata": {},
   "outputs": [
    {
     "name": "stdout",
     "output_type": "stream",
     "text": [
      "Number of rows where 'namelsad10' matches 'Census_Tract': 801\n"
     ]
    }
   ],
   "source": [
    "import pandas as pd\n",
    "\n",
    "# Read the first Excel file into a DataFrame\n",
    "file_path1 = r'C:\\Users\\Redwan Kabir\\Desktop\\Pop_Data_Chicago_Cook County\\Census_tract_Shapefile_ID.xlsx'\n",
    "df1 = pd.read_excel(file_path1)\n",
    "\n",
    "# Assuming 'df' is the DataFrame containing the census tract data with 'Census_Tract' column\n",
    "# Read the other Excel file into a DataFrame\n",
    "file_path2 = r'C:\\Users\\Redwan Kabir\\Desktop\\Pop_Data_Chicago_Cook County\\Demographic Profile_2010_CookCounty\\updated_file_2010.xlsx'  # Replace 'path_to_another_excel_file.xlsx' with the actual file path\n",
    "df2 = pd.read_excel(file_path2)\n",
    "\n",
    "# Count the number of rows where 'namelsad10' matches 'Census_Tract'\n",
    "matched_rows = df1[df1['namelsad10'].isin(df2['Census_Tract'])]\n",
    "\n",
    "# Display the count of matching rows\n",
    "print(\"Number of rows where 'namelsad10' matches 'Census_Tract':\", len(matched_rows))\n"
   ]
  },
  {
   "cell_type": "code",
   "execution_count": 39,
   "id": "8526a277",
   "metadata": {},
   "outputs": [
    {
     "name": "stdout",
     "output_type": "stream",
     "text": [
      "Combined attributes saved successfully to 'combined_attributes.xlsx'\n"
     ]
    }
   ],
   "source": [
    "import pandas as pd\n",
    "\n",
    "# Read the first Excel file into a DataFrame\n",
    "file_path1 = r'C:\\Users\\Redwan Kabir\\Desktop\\Pop_Data_Chicago_Cook County\\Census_tract_Shapefile_ID.xlsx'\n",
    "df1 = pd.read_excel(file_path1)\n",
    "\n",
    "# Assuming 'df' is the DataFrame containing the census tract data with 'Census_Tract' column\n",
    "# Read the other Excel file into a DataFrame\n",
    "file_path2 = r'C:\\Users\\Redwan Kabir\\Desktop\\Pop_Data_Chicago_Cook County\\Demographic Profile_2010_CookCounty\\updated_file_2010.xlsx'  # Replace 'path_to_another_excel_file.xlsx' with the actual file path\n",
    "df2 = pd.read_excel(file_path2)\n",
    "\n",
    "# Merge the DataFrames on matching columns\n",
    "merged_df = pd.merge(df1, df2, left_on='namelsad10', right_on='Census_Tract', how='inner')\n",
    "\n",
    "# Rename 'Tot_Pop' column to 'Tot_Pop_00'\n",
    "merged_df.rename(columns={'Tot_Pop': 'Tot_Pop_10'}, inplace=True)\n",
    "\n",
    "# Save the combined attributes to a new Excel file\n",
    "output_file_path = r'C:\\Users\\Redwan Kabir\\Desktop\\Pop_Data_Chicago_Cook County\\Combined_Data_2010.xlsx'\n",
    "merged_df.to_excel(output_file_path, index=False)\n",
    "\n",
    "print(\"Combined attributes saved successfully to 'combined_attributes.xlsx'\")\n"
   ]
  },
  {
   "cell_type": "code",
   "execution_count": 41,
   "id": "42a02076",
   "metadata": {},
   "outputs": [
    {
     "name": "stdout",
     "output_type": "stream",
     "text": [
      "Number of rows where 'namelsad10' matches 'Census_Tract': 785\n"
     ]
    }
   ],
   "source": [
    "import pandas as pd\n",
    "\n",
    "# Read the first Excel file into a DataFrame\n",
    "file_path1 = r'C:\\Users\\Redwan Kabir\\Desktop\\Pop_Data_Chicago_Cook County\\Census_tract_Shapefile_ID.xlsx'\n",
    "df1 = pd.read_excel(file_path1)\n",
    "\n",
    "# Assuming 'df' is the DataFrame containing the census tract data with 'Census_Tract' column\n",
    "# Read the other Excel file into a DataFrame\n",
    "file_path2 = r'C:\\Users\\Redwan Kabir\\Desktop\\Pop_Data_Chicago_Cook County\\Demographic Profile_2020_CookCounty\\updated_file_2020.xlsx'  # Replace 'path_to_another_excel_file.xlsx' with the actual file path\n",
    "df2 = pd.read_excel(file_path2)\n",
    "\n",
    "# Count the number of rows where 'namelsad10' matches 'Census_Tract'\n",
    "matched_rows = df1[df1['namelsad10'].isin(df2['Census_Tract'])]\n",
    "\n",
    "# Display the count of matching rows\n",
    "print(\"Number of rows where 'namelsad10' matches 'Census_Tract':\", len(matched_rows))\n"
   ]
  },
  {
   "cell_type": "code",
   "execution_count": 51,
   "id": "ed1d8da0",
   "metadata": {},
   "outputs": [
    {
     "name": "stdout",
     "output_type": "stream",
     "text": [
      "Combined attributes saved successfully to 'combined_attributes.xlsx'\n"
     ]
    }
   ],
   "source": [
    "import pandas as pd\n",
    "\n",
    "# Read the first Excel file into a DataFrame\n",
    "file_path1 = r'C:\\Users\\Redwan Kabir\\Desktop\\Pop_Data_Chicago_Cook County\\Census_tract_Shapefile_ID.xlsx'\n",
    "df1 = pd.read_excel(file_path1)\n",
    "\n",
    "# Assuming 'df' is the DataFrame containing the census tract data with 'Census_Tract' column\n",
    "# Read the other Excel file into a DataFrame\n",
    "file_path2 = r'C:\\Users\\Redwan Kabir\\Desktop\\Pop_Data_Chicago_Cook County\\Demographic Profile_2020_CookCounty\\updated_file_2020.xlsx'  # Replace 'path_to_another_excel_file.xlsx' with the actual file path\n",
    "df2 = pd.read_excel(file_path2)\n",
    "\n",
    "# Merge the DataFrames on matching columns\n",
    "merged_df = pd.merge(df1, df2, left_on='namelsad10', right_on='Census_Tract', how='inner')\n",
    "\n",
    "# Rename 'Tot_Pop' column to 'Tot_Pop_00'\n",
    "merged_df.rename(columns={'Total_Pop': 'Tot_Pop_20'}, inplace=True)\n",
    "\n",
    "# Save the combined attributes to a new Excel file\n",
    "output_file_path = r'C:\\Users\\Redwan Kabir\\Desktop\\Pop_Data_Chicago_Cook County\\Combined_Data_2020.xlsx'\n",
    "merged_df.to_excel(output_file_path, index=False)\n",
    "\n",
    "print(\"Combined attributes saved successfully to 'combined_attributes.xlsx'\")\n"
   ]
  },
  {
   "cell_type": "code",
   "execution_count": 44,
   "id": "109a42c1",
   "metadata": {},
   "outputs": [
    {
     "name": "stdout",
     "output_type": "stream",
     "text": [
      "Census tract numbers missing in the first DataFrame:\n",
      "              Census_Tract\n",
      "386   Census Tract 3201.01\n",
      "387   Census Tract 3201.02\n",
      "390   Census Tract 3301.01\n",
      "391   Census Tract 3301.02\n",
      "392   Census Tract 3301.03\n",
      "...                    ...\n",
      "1219     Census Tract 8303\n",
      "1220     Census Tract 8304\n",
      "1327     Census Tract 8446\n",
      "1328     Census Tract 8447\n",
      "1331     Census Tract 9900\n",
      "\n",
      "[547 rows x 1 columns]\n",
      "\n",
      "Census tract numbers missing in the second DataFrame:\n",
      "            namelsad10\n",
      "163  Census Tract 8414\n",
      "169  Census Tract 8359\n",
      "193  Census Tract 8416\n",
      "227  Census Tract 8357\n",
      "385  Census Tract 3301\n",
      "399  Census Tract 3807\n",
      "421  Census Tract 3805\n",
      "516  Census Tract 4606\n",
      "517  Census Tract 4607\n",
      "569  Census Tract 4903\n",
      "570  Census Tract 4904\n",
      "590  Census Tract 3201\n",
      "711  Census Tract 6110\n",
      "740  Census Tract 6111\n",
      "764  Census Tract 6302\n",
      "774  Census Tract 6301\n"
     ]
    }
   ],
   "source": [
    "import pandas as pd\n",
    "\n",
    "# Read the first Excel file into a DataFrame\n",
    "file_path1 = r'C:\\Users\\Redwan Kabir\\Desktop\\Pop_Data_Chicago_Cook County\\Census_tract_Shapefile_ID.xlsx'\n",
    "df1 = pd.read_excel(file_path1)\n",
    "\n",
    "# Assuming 'df' is the DataFrame containing the census tract data with 'Census_Tract' column\n",
    "# Read the other Excel file into a DataFrame\n",
    "file_path2 = r'C:\\Users\\Redwan Kabir\\Desktop\\Pop_Data_Chicago_Cook County\\Demographic Profile_2020_CookCounty\\updated_file_2020.xlsx'\n",
    "df2 = pd.read_excel(file_path2)\n",
    "\n",
    "# Find census tract numbers missing from each DataFrame\n",
    "missing_from_df1 = df2[~df2['Census_Tract'].isin(df1['namelsad10'])]\n",
    "missing_from_df2 = df1[~df1['namelsad10'].isin(df2['Census_Tract'])]\n",
    "\n",
    "# Create DataFrames to display the missing census tract numbers\n",
    "missing_tracts_df1 = pd.DataFrame(missing_from_df1, columns=['Census_Tract'])\n",
    "missing_tracts_df2 = pd.DataFrame(missing_from_df2, columns=['namelsad10'])\n",
    "\n",
    "# Display the missing census tract numbers\n",
    "print(\"Census tract numbers missing in the first DataFrame:\")\n",
    "print(missing_tracts_df1)\n",
    "\n",
    "print(\"\\nCensus tract numbers missing in the second DataFrame:\")\n",
    "print(missing_tracts_df2)\n"
   ]
  },
  {
   "cell_type": "code",
   "execution_count": 45,
   "id": "74415054",
   "metadata": {},
   "outputs": [
    {
     "name": "stdout",
     "output_type": "stream",
     "text": [
      "Census tract numbers missing in df2: ['Census Tract 8414', 'Census Tract 8359', 'Census Tract 8416', 'Census Tract 8357', 'Census Tract 3301', 'Census Tract 3807', 'Census Tract 3805', 'Census Tract 4606', 'Census Tract 4607', 'Census Tract 4903', 'Census Tract 4904', 'Census Tract 3201', 'Census Tract 6110', 'Census Tract 6111', 'Census Tract 6302', 'Census Tract 6301']\n",
      "Census tract numbers missing in df1: ['Census Tract 3201.01', 'Census Tract 3201.02', 'Census Tract 3301.01', 'Census Tract 3301.02', 'Census Tract 3301.03', 'Census Tract 3806', 'Census Tract 4608', 'Census Tract 4902', 'Census Tract 6122', 'Census Tract 6306', 'Census Tract 7702.01', 'Census Tract 7702.02', 'Census Tract 7703', 'Census Tract 7704', 'Census Tract 7705', 'Census Tract 7706.01', 'Census Tract 7707', 'Census Tract 7708', 'Census Tract 7709.01', 'Census Tract 8001', 'Census Tract 8002', 'Census Tract 8003', 'Census Tract 8004', 'Census Tract 8005', 'Census Tract 8006', 'Census Tract 8007', 'Census Tract 8008', 'Census Tract 8009', 'Census Tract 8010', 'Census Tract 8011', 'Census Tract 8012', 'Census Tract 8013', 'Census Tract 8014', 'Census Tract 8015', 'Census Tract 8016.01', 'Census Tract 8016.03', 'Census Tract 8016.05', 'Census Tract 8016.06', 'Census Tract 8016.07', 'Census Tract 8016.08', 'Census Tract 8017.01', 'Census Tract 8017.02', 'Census Tract 8018', 'Census Tract 8019.01', 'Census Tract 8019.02', 'Census Tract 8020.02', 'Census Tract 8020.03', 'Census Tract 8020.04', 'Census Tract 8021', 'Census Tract 8022', 'Census Tract 8023', 'Census Tract 8024.02', 'Census Tract 8024.03', 'Census Tract 8024.04', 'Census Tract 8025.03', 'Census Tract 8025.04', 'Census Tract 8025.05', 'Census Tract 8025.06', 'Census Tract 8026.05', 'Census Tract 8026.07', 'Census Tract 8026.08', 'Census Tract 8026.09', 'Census Tract 8026.10', 'Census Tract 8027.01', 'Census Tract 8027.02', 'Census Tract 8028.01', 'Census Tract 8028.02', 'Census Tract 8029', 'Census Tract 8030.05', 'Census Tract 8030.07', 'Census Tract 8030.08', 'Census Tract 8030.10', 'Census Tract 8030.12', 'Census Tract 8030.13', 'Census Tract 8030.14', 'Census Tract 8030.15', 'Census Tract 8030.16', 'Census Tract 8030.17', 'Census Tract 8031', 'Census Tract 8032', 'Census Tract 8033', 'Census Tract 8034', 'Census Tract 8035', 'Census Tract 8036.03', 'Census Tract 8036.04', 'Census Tract 8036.05', 'Census Tract 8036.07', 'Census Tract 8036.08', 'Census Tract 8036.11', 'Census Tract 8036.12', 'Census Tract 8036.13', 'Census Tract 8036.14', 'Census Tract 8036.15', 'Census Tract 8036.16', 'Census Tract 8037.01', 'Census Tract 8037.02', 'Census Tract 8038', 'Census Tract 8039.01', 'Census Tract 8039.02', 'Census Tract 8040', 'Census Tract 8041.02', 'Census Tract 8041.04', 'Census Tract 8041.05', 'Census Tract 8041.06', 'Census Tract 8041.08', 'Census Tract 8041.09', 'Census Tract 8042.02', 'Census Tract 8042.03', 'Census Tract 8042.04', 'Census Tract 8043.05', 'Census Tract 8043.06', 'Census Tract 8043.08', 'Census Tract 8043.09', 'Census Tract 8043.12', 'Census Tract 8043.13', 'Census Tract 8043.14', 'Census Tract 8043.15', 'Census Tract 8043.16', 'Census Tract 8044.03', 'Census Tract 8044.04', 'Census Tract 8044.05', 'Census Tract 8044.06', 'Census Tract 8045.05', 'Census Tract 8045.06', 'Census Tract 8045.08', 'Census Tract 8045.09', 'Census Tract 8045.10', 'Census Tract 8045.11', 'Census Tract 8045.12', 'Census Tract 8045.13', 'Census Tract 8045.14', 'Census Tract 8046.03', 'Census Tract 8046.06', 'Census Tract 8046.07', 'Census Tract 8046.08', 'Census Tract 8046.09', 'Census Tract 8046.10', 'Census Tract 8046.11', 'Census Tract 8047.01', 'Census Tract 8047.05', 'Census Tract 8047.06', 'Census Tract 8047.09', 'Census Tract 8047.10', 'Census Tract 8047.11', 'Census Tract 8047.12', 'Census Tract 8047.13', 'Census Tract 8047.14', 'Census Tract 8047.15', 'Census Tract 8047.16', 'Census Tract 8048.03', 'Census Tract 8048.04', 'Census Tract 8048.05', 'Census Tract 8048.06', 'Census Tract 8048.07', 'Census Tract 8048.08', 'Census Tract 8048.09', 'Census Tract 8048.10', 'Census Tract 8049.01', 'Census Tract 8049.02', 'Census Tract 8050.01', 'Census Tract 8050.02', 'Census Tract 8051.05', 'Census Tract 8051.06', 'Census Tract 8051.07', 'Census Tract 8051.08', 'Census Tract 8051.09', 'Census Tract 8051.10', 'Census Tract 8051.11', 'Census Tract 8051.12', 'Census Tract 8052.01', 'Census Tract 8052.02', 'Census Tract 8053.01', 'Census Tract 8053.02', 'Census Tract 8054.01', 'Census Tract 8054.02', 'Census Tract 8055.01', 'Census Tract 8055.02', 'Census Tract 8056', 'Census Tract 8057.01', 'Census Tract 8057.02', 'Census Tract 8058.01', 'Census Tract 8058.02', 'Census Tract 8059.01', 'Census Tract 8059.02', 'Census Tract 8060.01', 'Census Tract 8060.02', 'Census Tract 8060.04', 'Census Tract 8060.05', 'Census Tract 8060.06', 'Census Tract 8061.02', 'Census Tract 8061.03', 'Census Tract 8061.04', 'Census Tract 8062.01', 'Census Tract 8062.02', 'Census Tract 8063', 'Census Tract 8064', 'Census Tract 8065.01', 'Census Tract 8065.02', 'Census Tract 8066', 'Census Tract 8067', 'Census Tract 8068.01', 'Census Tract 8068.02', 'Census Tract 8069', 'Census Tract 8070', 'Census Tract 8071', 'Census Tract 8072', 'Census Tract 8073', 'Census Tract 8074', 'Census Tract 8075', 'Census Tract 8076', 'Census Tract 8077', 'Census Tract 8078', 'Census Tract 8079', 'Census Tract 8080.01', 'Census Tract 8080.02', 'Census Tract 8081', 'Census Tract 8082', 'Census Tract 8083.01', 'Census Tract 8083.02', 'Census Tract 8084', 'Census Tract 8085', 'Census Tract 8086', 'Census Tract 8087.02', 'Census Tract 8088', 'Census Tract 8089', 'Census Tract 8090', 'Census Tract 8091', 'Census Tract 8092', 'Census Tract 8093', 'Census Tract 8094.01', 'Census Tract 8094.02', 'Census Tract 8095', 'Census Tract 8096', 'Census Tract 8097', 'Census Tract 8098', 'Census Tract 8099', 'Census Tract 8100', 'Census Tract 8101', 'Census Tract 8102', 'Census Tract 8103.01', 'Census Tract 8103.02', 'Census Tract 8105.01', 'Census Tract 8105.02', 'Census Tract 8106', 'Census Tract 8107.01', 'Census Tract 8107.02', 'Census Tract 8108', 'Census Tract 8109', 'Census Tract 8110', 'Census Tract 8111', 'Census Tract 8112', 'Census Tract 8113.01', 'Census Tract 8113.02', 'Census Tract 8114.01', 'Census Tract 8114.02', 'Census Tract 8115', 'Census Tract 8116', 'Census Tract 8117.01', 'Census Tract 8117.02', 'Census Tract 8118', 'Census Tract 8119', 'Census Tract 8120', 'Census Tract 8121', 'Census Tract 8122', 'Census Tract 8123.01', 'Census Tract 8123.02', 'Census Tract 8124', 'Census Tract 8125', 'Census Tract 8126', 'Census Tract 8127', 'Census Tract 8128.01', 'Census Tract 8128.02', 'Census Tract 8129', 'Census Tract 8130', 'Census Tract 8131', 'Census Tract 8132', 'Census Tract 8133.01', 'Census Tract 8133.02', 'Census Tract 8134', 'Census Tract 8135', 'Census Tract 8136', 'Census Tract 8137.01', 'Census Tract 8137.02', 'Census Tract 8138.01', 'Census Tract 8138.02', 'Census Tract 8139', 'Census Tract 8140', 'Census Tract 8141', 'Census Tract 8142', 'Census Tract 8143', 'Census Tract 8144', 'Census Tract 8145', 'Census Tract 8146', 'Census Tract 8147', 'Census Tract 8148', 'Census Tract 8149', 'Census Tract 8150', 'Census Tract 8151', 'Census Tract 8152', 'Census Tract 8153', 'Census Tract 8154', 'Census Tract 8155', 'Census Tract 8156', 'Census Tract 8157.01', 'Census Tract 8157.02', 'Census Tract 8158', 'Census Tract 8159', 'Census Tract 8160', 'Census Tract 8161', 'Census Tract 8162', 'Census Tract 8163', 'Census Tract 8164.01', 'Census Tract 8164.02', 'Census Tract 8165', 'Census Tract 8166', 'Census Tract 8167', 'Census Tract 8168', 'Census Tract 8169', 'Census Tract 8170', 'Census Tract 8171.01', 'Census Tract 8171.02', 'Census Tract 8172', 'Census Tract 8173', 'Census Tract 8174', 'Census Tract 8175', 'Census Tract 8176', 'Census Tract 8177', 'Census Tract 8179', 'Census Tract 8180', 'Census Tract 8181', 'Census Tract 8182', 'Census Tract 8183', 'Census Tract 8184.01', 'Census Tract 8184.02', 'Census Tract 8185', 'Census Tract 8186', 'Census Tract 8187', 'Census Tract 8188', 'Census Tract 8189', 'Census Tract 8190', 'Census Tract 8191', 'Census Tract 8192', 'Census Tract 8193', 'Census Tract 8194', 'Census Tract 8195', 'Census Tract 8196', 'Census Tract 8197', 'Census Tract 8198.01', 'Census Tract 8198.02', 'Census Tract 8199', 'Census Tract 8200', 'Census Tract 8201.01', 'Census Tract 8201.03', 'Census Tract 8201.04', 'Census Tract 8202.02', 'Census Tract 8202.03', 'Census Tract 8202.04', 'Census Tract 8203', 'Census Tract 8204', 'Census Tract 8205.01', 'Census Tract 8205.02', 'Census Tract 8206.03', 'Census Tract 8206.04', 'Census Tract 8206.05', 'Census Tract 8206.06', 'Census Tract 8207', 'Census Tract 8208', 'Census Tract 8209.01', 'Census Tract 8209.02', 'Census Tract 8210.01', 'Census Tract 8210.02', 'Census Tract 8211.01', 'Census Tract 8211.02', 'Census Tract 8212', 'Census Tract 8213', 'Census Tract 8214.01', 'Census Tract 8215', 'Census Tract 8216', 'Census Tract 8217', 'Census Tract 8218', 'Census Tract 8219', 'Census Tract 8220', 'Census Tract 8221.01', 'Census Tract 8221.02', 'Census Tract 8222', 'Census Tract 8223.01', 'Census Tract 8223.02', 'Census Tract 8224', 'Census Tract 8225', 'Census Tract 8226.01', 'Census Tract 8226.02', 'Census Tract 8227.01', 'Census Tract 8227.02', 'Census Tract 8228.01', 'Census Tract 8228.02', 'Census Tract 8229', 'Census Tract 8230.01', 'Census Tract 8230.02', 'Census Tract 8231.01', 'Census Tract 8231.02', 'Census Tract 8232', 'Census Tract 8233.02', 'Census Tract 8233.03', 'Census Tract 8234', 'Census Tract 8235', 'Census Tract 8236.02', 'Census Tract 8236.03', 'Census Tract 8236.04', 'Census Tract 8236.05', 'Census Tract 8237.02', 'Census Tract 8237.03', 'Census Tract 8237.04', 'Census Tract 8237.05', 'Census Tract 8238.01', 'Census Tract 8238.03', 'Census Tract 8238.05', 'Census Tract 8238.06', 'Census Tract 8239.01', 'Census Tract 8239.03', 'Census Tract 8239.04', 'Census Tract 8240.03', 'Census Tract 8240.04', 'Census Tract 8240.05', 'Census Tract 8240.06', 'Census Tract 8241.05', 'Census Tract 8241.06', 'Census Tract 8241.07', 'Census Tract 8241.13', 'Census Tract 8241.14', 'Census Tract 8241.15', 'Census Tract 8241.16', 'Census Tract 8241.19', 'Census Tract 8241.21', 'Census Tract 8241.22', 'Census Tract 8241.23', 'Census Tract 8241.24', 'Census Tract 8241.25', 'Census Tract 8241.26', 'Census Tract 8241.27', 'Census Tract 8241.28', 'Census Tract 8241.29', 'Census Tract 8243', 'Census Tract 8244', 'Census Tract 8245.03', 'Census Tract 8245.05', 'Census Tract 8245.07', 'Census Tract 8245.08', 'Census Tract 8245.09', 'Census Tract 8246.01', 'Census Tract 8246.02', 'Census Tract 8247.01', 'Census Tract 8247.02', 'Census Tract 8248', 'Census Tract 8249', 'Census Tract 8250', 'Census Tract 8252', 'Census Tract 8253.02', 'Census Tract 8253.03', 'Census Tract 8253.04', 'Census Tract 8254', 'Census Tract 8255.01', 'Census Tract 8255.03', 'Census Tract 8255.04', 'Census Tract 8255.05', 'Census Tract 8256', 'Census Tract 8257', 'Census Tract 8258.01', 'Census Tract 8258.02', 'Census Tract 8258.03', 'Census Tract 8259', 'Census Tract 8260', 'Census Tract 8261', 'Census Tract 8262.01', 'Census Tract 8262.02', 'Census Tract 8263.01', 'Census Tract 8263.03', 'Census Tract 8263.04', 'Census Tract 8264.01', 'Census Tract 8264.02', 'Census Tract 8265', 'Census Tract 8266', 'Census Tract 8267', 'Census Tract 8268', 'Census Tract 8269.01', 'Census Tract 8269.02', 'Census Tract 8270', 'Census Tract 8271', 'Census Tract 8272', 'Census Tract 8273', 'Census Tract 8274', 'Census Tract 8275', 'Census Tract 8276', 'Census Tract 8277', 'Census Tract 8278.01', 'Census Tract 8278.02', 'Census Tract 8278.04', 'Census Tract 8278.05', 'Census Tract 8279.01', 'Census Tract 8279.02', 'Census Tract 8280', 'Census Tract 8281', 'Census Tract 8282.01', 'Census Tract 8282.02', 'Census Tract 8283', 'Census Tract 8284.01', 'Census Tract 8284.02', 'Census Tract 8285.03', 'Census Tract 8285.04', 'Census Tract 8285.05', 'Census Tract 8285.07', 'Census Tract 8285.08', 'Census Tract 8286.01', 'Census Tract 8286.02', 'Census Tract 8287.01', 'Census Tract 8287.02', 'Census Tract 8288.01', 'Census Tract 8288.02', 'Census Tract 8289', 'Census Tract 8290', 'Census Tract 8291', 'Census Tract 8292', 'Census Tract 8293.01', 'Census Tract 8293.02', 'Census Tract 8294.01', 'Census Tract 8294.02', 'Census Tract 8295', 'Census Tract 8296', 'Census Tract 8297', 'Census Tract 8298', 'Census Tract 8299.02', 'Census Tract 8299.03', 'Census Tract 8299.04', 'Census Tract 8300.01', 'Census Tract 8300.03', 'Census Tract 8300.04', 'Census Tract 8300.05', 'Census Tract 8300.06', 'Census Tract 8300.07', 'Census Tract 8300.08', 'Census Tract 8301', 'Census Tract 8302.01', 'Census Tract 8302.02', 'Census Tract 8303', 'Census Tract 8304', 'Census Tract 8446', 'Census Tract 8447', 'Census Tract 9900']\n",
      "Number of missing rows in df2: 16\n",
      "Number of missing rows in df1: 547\n"
     ]
    }
   ],
   "source": [
    "import pandas as pd\n",
    "\n",
    "# Read the first Excel file into a DataFrame\n",
    "file_path1 = r'C:\\Users\\Redwan Kabir\\Desktop\\Pop_Data_Chicago_Cook County\\Census_tract_Shapefile_ID.xlsx'\n",
    "df1 = pd.read_excel(file_path1)\n",
    "\n",
    "# Assuming 'df' is the DataFrame containing the census tract data with 'Census_Tract' column\n",
    "# Read the other Excel file into a DataFrame\n",
    "file_path2 = r'C:\\Users\\Redwan Kabir\\Desktop\\Pop_Data_Chicago_Cook County\\Demographic Profile_2020_CookCounty\\updated_file_2020.xlsx'  # Replace 'path_to_another_excel_file.xlsx' with the actual file path\n",
    "df2 = pd.read_excel(file_path2)\n",
    "\n",
    "# Find census tract numbers present in df1 but missing in df2\n",
    "missing_in_df2 = df1[~df1['namelsad10'].isin(df2['Census_Tract'])]\n",
    "\n",
    "# Find census tract numbers present in df2 but missing in df1\n",
    "missing_in_df1 = df2[~df2['Census_Tract'].isin(df1['namelsad10'])]\n",
    "\n",
    "# Count the number of missing rows in each DataFrame\n",
    "num_missing_in_df2 = len(missing_in_df2)\n",
    "num_missing_in_df1 = len(missing_in_df1)\n",
    "\n",
    "# Display the missing census tract numbers in each DataFrame\n",
    "print(\"Census tract numbers missing in df2:\", missing_in_df2['namelsad10'].tolist())\n",
    "print(\"Census tract numbers missing in df1:\", missing_in_df1['Census_Tract'].tolist())\n",
    "\n",
    "# Display the count of missing data in each DataFrame\n",
    "print(\"Number of missing rows in df2:\", num_missing_in_df2)\n",
    "print(\"Number of missing rows in df1:\", num_missing_in_df1)\n"
   ]
  },
  {
   "cell_type": "code",
   "execution_count": 46,
   "id": "ca2d2fdd",
   "metadata": {},
   "outputs": [
    {
     "name": "stdout",
     "output_type": "stream",
     "text": [
      "Excel files for missing census tract numbers created successfully!\n"
     ]
    }
   ],
   "source": [
    "import pandas as pd\n",
    "\n",
    "# Read the first Excel file into a DataFrame\n",
    "file_path1 = r'C:\\Users\\Redwan Kabir\\Desktop\\Pop_Data_Chicago_Cook County\\Census_tract_Shapefile_ID.xlsx'\n",
    "df1 = pd.read_excel(file_path1)\n",
    "\n",
    "# Assuming 'df' is the DataFrame containing the census tract data with 'Census_Tract' column\n",
    "# Read the other Excel file into a DataFrame\n",
    "file_path2 = r'C:\\Users\\Redwan Kabir\\Desktop\\Pop_Data_Chicago_Cook County\\Demographic Profile_2020_CookCounty\\updated_file_2020.xlsx'\n",
    "df2 = pd.read_excel(file_path2)\n",
    "\n",
    "# Find census tract numbers missing from each DataFrame\n",
    "missing_from_df1 = df2[~df2['Census_Tract'].isin(df1['namelsad10'])]\n",
    "missing_from_df2 = df1[~df1['namelsad10'].isin(df2['Census_Tract'])]\n",
    "\n",
    "# Create DataFrames to display the missing census tract numbers\n",
    "missing_tracts_df1 = pd.DataFrame(missing_from_df1, columns=['Census_Tract'])\n",
    "missing_tracts_df2 = pd.DataFrame(missing_from_df2, columns=['namelsad10'])\n",
    "\n",
    "# Save the missing census tract numbers to separate Excel files\n",
    "output_file_path1 = r'C:\\Users\\Redwan Kabir\\Desktop\\missing_census_tracts_df1.xlsx'\n",
    "output_file_path2 = r'C:\\Users\\Redwan Kabir\\Desktop\\missing_census_tracts_df2.xlsx'\n",
    "\n",
    "missing_tracts_df1.to_excel(output_file_path1, index=False)\n",
    "missing_tracts_df2.to_excel(output_file_path2, index=False)\n",
    "\n",
    "print(\"Excel files for missing census tract numbers created successfully!\")\n"
   ]
  },
  {
   "cell_type": "code",
   "execution_count": 57,
   "id": "b00407e4",
   "metadata": {},
   "outputs": [
    {
     "name": "stdout",
     "output_type": "stream",
     "text": [
      "Merged Excel file saved successfully!\n",
      "     FID  Shape *  commarea  commarea_n  countyfp10      geoid10  name10  \\\n",
      "0      0  Polygon        44          44          31  17031842400  8424.0   \n",
      "1      1  Polygon        59          59          31  17031840300  8403.0   \n",
      "2      2  Polygon        34          34          31  17031841100  8411.0   \n",
      "3      3  Polygon        31          31          31  17031841200  8412.0   \n",
      "4      4  Polygon        32          32          31  17031839000  8390.0   \n",
      "..   ...      ...       ...         ...         ...          ...     ...   \n",
      "796  796  Polygon         7           7          31  17031070400   704.0   \n",
      "797  797  Polygon         7           7          31  17031070500   705.0   \n",
      "798  798  Polygon        13          13          31  17031130300  1303.0   \n",
      "799  799  Polygon        29          29          31  17031292200  2922.0   \n",
      "800  800  Polygon        63          63          31  17031630900  6309.0   \n",
      "\n",
      "            namelsad10 notes  statefp10  tractce10  Tot_Pop_20  Tot_Pop_10  \\\n",
      "0    Census Tract 8424               17     842400      3041.0      3304.0   \n",
      "1    Census Tract 8403               17     840300      4196.0      3950.0   \n",
      "2    Census Tract 8411               17     841100      7356.0      7254.0   \n",
      "3    Census Tract 8412               17     841200      4873.0      5262.0   \n",
      "4    Census Tract 8390               17     839000     10435.0      7311.0   \n",
      "..                 ...   ...        ...        ...         ...         ...   \n",
      "796   Census Tract 704               17      70400      3250.0      2984.0   \n",
      "797   Census Tract 705               17      70500      3322.0      2928.0   \n",
      "798  Census Tract 1303               17     130300      5083.0      5064.0   \n",
      "799  Census Tract 2922               17     292200      2942.0      2961.0   \n",
      "800  Census Tract 6309               17     630900      5204.0      5363.0   \n",
      "\n",
      "     Tot_Pop_00  \n",
      "0           0.0  \n",
      "1           0.0  \n",
      "2           0.0  \n",
      "3           0.0  \n",
      "4           0.0  \n",
      "..          ...  \n",
      "796      2914.0  \n",
      "797      2723.0  \n",
      "798      5164.0  \n",
      "799      3145.0  \n",
      "800      5243.0  \n",
      "\n",
      "[801 rows x 14 columns]\n"
     ]
    }
   ],
   "source": [
    "import pandas as pd\n",
    "\n",
    "# File paths for the three population data files and the shapefile\n",
    "file_2020 = r'C:\\Users\\Redwan Kabir\\Desktop\\Pop_Data_Chicago_Cook County\\Combined_Data_2020.xlsx'\n",
    "file_2000 = r'C:\\Users\\Redwan Kabir\\Desktop\\Pop_Data_Chicago_Cook County\\Combined_Data_2000.xlsx'\n",
    "file_2010 = r'C:\\Users\\Redwan Kabir\\Desktop\\Pop_Data_Chicago_Cook County\\Combined_Data_2010.xlsx'\n",
    "shapefile_path = r'C:\\Users\\Redwan Kabir\\Desktop\\Pop_Data_Chicago_Cook County\\Census_tract_Shapefile_ID.xlsx'\n",
    "\n",
    "# Read the population data and shapefile into DataFrames\n",
    "df_2020 = pd.read_excel(file_2020)\n",
    "df_2000 = pd.read_excel(file_2000)\n",
    "df_2010 = pd.read_excel(file_2010)\n",
    "df_shapefile = pd.read_excel(shapefile_path)\n",
    "\n",
    "# Merge the population data with the shapefile based on 'namelsad10' column\n",
    "merged_df = pd.merge(df_shapefile, df_2020[['namelsad10', 'Tot_Pop_20']], on='namelsad10', how='left')\n",
    "merged_df = pd.merge(merged_df, df_2010[['namelsad10', 'Tot_Pop_10']], on='namelsad10', how='left')\n",
    "merged_df = pd.merge(merged_df, df_2000[['namelsad10', 'Tot_Pop_00']], on='namelsad10', how='left')\n",
    "\n",
    "# Fill missing values with 0\n",
    "merged_df = merged_df.fillna(0)\n",
    "\n",
    "# Save the merged DataFrame to a new Excel file\n",
    "output_file_path = r'C:\\Users\\Redwan Kabir\\Desktop\\Pop_Data_Chicago_Cook County\\Merged_Census_tract_Shapefile_ID.xlsx'\n",
    "merged_df.to_excel(output_file_path, index=False)\n",
    "\n",
    "print(\"Merged Excel file saved successfully!\")\n",
    "\n",
    "# Display the merged DataFrame\n",
    "print(merged_df)\n"
   ]
  },
  {
   "cell_type": "code",
   "execution_count": null,
   "id": "b171544b",
   "metadata": {},
   "outputs": [],
   "source": []
  }
 ],
 "metadata": {
  "kernelspec": {
   "display_name": "Python 3",
   "language": "python",
   "name": "python3"
  },
  "language_info": {
   "codemirror_mode": {
    "name": "ipython",
    "version": 3
   },
   "file_extension": ".py",
   "mimetype": "text/x-python",
   "name": "python",
   "nbconvert_exporter": "python",
   "pygments_lexer": "ipython3",
   "version": "3.9.11"
  }
 },
 "nbformat": 4,
 "nbformat_minor": 5
}
